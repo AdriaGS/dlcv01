{
 "cells": [
  {
   "cell_type": "code",
   "execution_count": 27,
   "metadata": {
    "collapsed": false
   },
   "outputs": [
    {
     "name": "stdout",
     "output_type": "stream",
     "text": [
      "Dataset info data\n",
      "Train dataset size (60000, 28, 28)\n",
      "Test dataset size (10000, 28, 28)\n"
     ]
    }
   ],
   "source": [
    "\n",
    "import numpy as np\n",
    "import matplotlib.pyplot as plt\n",
    "from keras.datasets import mnist\n",
    "from keras.models import Sequential\n",
    "from keras.layers import Dense, Dropout, Activation, Flatten\n",
    "from keras.layers import Convolution2D, MaxPooling2D\n",
    "from keras.callbacks import ModelCheckpoint\n",
    "from keras.optimizers import SGD\n",
    "from keras.utils import np_utils\n",
    "\n",
    "\n",
    "(X_train, y_train), (X_test, y_test) = mnist.load_data()\n",
    "print(\"Dataset info data\")\n",
    "print(\"Train dataset size\",X_train.shape)\n",
    "print(\"Test dataset size\",X_test.shape)\n",
    "\n",
    "# inline plots\n",
    "%matplotlib inline\n",
    "plt.rcParams['figure.figsize'] = (10.0, 8.0) # set default size of plots\n",
    "plt.rcParams['image.interpolation'] = 'nearest'"
   ]
  },
  {
   "cell_type": "markdown",
   "metadata": {},
   "source": [
    "# 1. Loading data"
   ]
  },
  {
   "cell_type": "code",
   "execution_count": 28,
   "metadata": {
    "collapsed": false
   },
   "outputs": [
    {
     "name": "stdout",
     "output_type": "stream",
     "text": [
      "X_train:  (54000, 28, 28)\n",
      "y_train:  (54000,)\n",
      "X_val:  (6000, 28, 28)\n",
      "y_val:  (6000,)\n",
      "X_test:  (10000, 28, 28)\n",
      "y_test:  (10000,)\n"
     ]
    }
   ],
   "source": [
    "(X_train, y_train), (X_test, y_test) = mnist.load_data()\n",
    "\n",
    "num_validation = int(X_train.shape[0] * 0.1)\n",
    "num_training = X_train.shape[0] - num_validation\n",
    "\n",
    "mask = range(num_training, num_training + num_validation)\n",
    "X_val = X_train[mask]\n",
    "y_val = y_train[mask]\n",
    "\n",
    "mask = range(num_training)\n",
    "X_train = X_train[mask]\n",
    "y_train = y_train[mask]\n",
    "\n",
    "print ('X_train: ', X_train.shape)\n",
    "print ('y_train: ', y_train.shape)\n",
    "print ('X_val: ', X_val.shape)\n",
    "print ('y_val: ', y_val.shape)\n",
    "print ('X_test: ', X_test.shape)\n",
    "print ('y_test: ', y_test.shape)"
   ]
  },
  {
   "cell_type": "markdown",
   "metadata": {},
   "source": [
    "#2 Reshaping Data"
   ]
  },
  {
   "cell_type": "code",
   "execution_count": 29,
   "metadata": {
    "collapsed": true
   },
   "outputs": [],
   "source": [
    "X_train_fc = X_train.reshape(X_train.shape[0], -1).astype('float32') / 255\n",
    "X_val_fc = X_val.reshape(X_val.shape[0], -1).astype('float32') / 255\n",
    "X_test_fc = X_test.reshape(X_test.shape[0], -1).astype('float32') / 255\n"
   ]
  },
  {
   "cell_type": "code",
   "execution_count": 30,
   "metadata": {
    "collapsed": true
   },
   "outputs": [],
   "source": [
    "nb_classes = len(np.unique(y_test))\n",
    "Y_train = np_utils.to_categorical(y_train, nb_classes)\n",
    "Y_val = np_utils.to_categorical(y_val, nb_classes)\n",
    "Y_test = np_utils.to_categorical(y_test, nb_classes)\n"
   ]
  },
  {
   "cell_type": "markdown",
   "metadata": {},
   "source": [
    "#4 Creating Network Architecture"
   ]
  },
  {
   "cell_type": "code",
   "execution_count": 31,
   "metadata": {
    "collapsed": false
   },
   "outputs": [
    {
     "name": "stdout",
     "output_type": "stream",
     "text": [
      "____________________________________________________________________________________________________\n",
      "Layer (type)                     Output Shape          Param #     Connected to                     \n",
      "====================================================================================================\n",
      "dense_28 (Dense)                 (None, 32)            25120       dense_input_8[0][0]              \n",
      "____________________________________________________________________________________________________\n",
      "dense_29 (Dense)                 (None, 32)            1056        dense_28[0][0]                   \n",
      "____________________________________________________________________________________________________\n",
      "dense_30 (Dense)                 (None, 10)            330         dense_29[0][0]                   \n",
      "====================================================================================================\n",
      "Total params: 26506\n",
      "____________________________________________________________________________________________________\n",
      "Train on 54000 samples, validate on 6000 samples\n",
      "Epoch 1/20\n",
      "54000/54000 [==============================] - 5s - loss: 0.3490 - acc: 0.8925 - val_loss: 0.1566 - val_acc: 0.9513\n",
      "Epoch 2/20\n",
      "54000/54000 [==============================] - 5s - loss: 0.1711 - acc: 0.9478 - val_loss: 0.1427 - val_acc: 0.9600\n",
      "Epoch 3/20\n",
      "54000/54000 [==============================] - 5s - loss: 0.1404 - acc: 0.9571 - val_loss: 0.1129 - val_acc: 0.9667\n",
      "Epoch 4/20\n",
      "54000/54000 [==============================] - 5s - loss: 0.1227 - acc: 0.9632 - val_loss: 0.1196 - val_acc: 0.9647\n",
      "Epoch 5/20\n",
      "54000/54000 [==============================] - 5s - loss: 0.1132 - acc: 0.9653 - val_loss: 0.1229 - val_acc: 0.9627\n",
      "Epoch 6/20\n",
      "54000/54000 [==============================] - 4s - loss: 0.0984 - acc: 0.9696 - val_loss: 0.1370 - val_acc: 0.9635\n",
      "Epoch 7/20\n",
      "54000/54000 [==============================] - 4s - loss: 0.0925 - acc: 0.9715 - val_loss: 0.1065 - val_acc: 0.9692\n",
      "Epoch 8/20\n",
      "54000/54000 [==============================] - 4s - loss: 0.0892 - acc: 0.9732 - val_loss: 0.1129 - val_acc: 0.9678\n",
      "Epoch 9/20\n",
      "54000/54000 [==============================] - 5s - loss: 0.0799 - acc: 0.9750 - val_loss: 0.1166 - val_acc: 0.9717\n",
      "Epoch 10/20\n",
      "54000/54000 [==============================] - 5s - loss: 0.0841 - acc: 0.9738 - val_loss: 0.1291 - val_acc: 0.9638\n",
      "Epoch 11/20\n",
      "54000/54000 [==============================] - 5s - loss: 0.0757 - acc: 0.9767 - val_loss: 0.1179 - val_acc: 0.9677\n",
      "Epoch 12/20\n",
      "54000/54000 [==============================] - 5s - loss: 0.0777 - acc: 0.9763 - val_loss: 0.1367 - val_acc: 0.9625\n",
      "Epoch 13/20\n",
      "54000/54000 [==============================] - 5s - loss: 0.0725 - acc: 0.9781 - val_loss: 0.1096 - val_acc: 0.9695\n",
      "Epoch 14/20\n",
      "54000/54000 [==============================] - 5s - loss: 0.0691 - acc: 0.9785 - val_loss: 0.1146 - val_acc: 0.9687\n",
      "Epoch 15/20\n",
      "54000/54000 [==============================] - 5s - loss: 0.0679 - acc: 0.9789 - val_loss: 0.1261 - val_acc: 0.9683\n",
      "Epoch 16/20\n",
      "54000/54000 [==============================] - 4s - loss: 0.0660 - acc: 0.9796 - val_loss: 0.1292 - val_acc: 0.9672\n",
      "Epoch 17/20\n",
      "54000/54000 [==============================] - 5s - loss: 0.0688 - acc: 0.9785 - val_loss: 0.1179 - val_acc: 0.9722\n",
      "Epoch 18/20\n",
      "54000/54000 [==============================] - 5s - loss: 0.0608 - acc: 0.9811 - val_loss: 0.1479 - val_acc: 0.9648\n",
      "Epoch 19/20\n",
      "54000/54000 [==============================] - 4s - loss: 0.0601 - acc: 0.9810 - val_loss: 0.1410 - val_acc: 0.9682\n",
      "Epoch 20/20\n",
      "54000/54000 [==============================] - 5s - loss: 0.0590 - acc: 0.9820 - val_loss: 0.1304 - val_acc: 0.9717\n",
      "Training required time is 103.28843593597412 seconds\n"
     ]
    },
    {
     "data": {
      "image/png": "[encoded data removed]",
      "text/plain": [
       "<matplotlib.figure.Figure at 0x1154a4be0>"
      ]
     },
     "metadata": {},
     "output_type": "display_data"
    },
    {
     "name": "stderr",
     "output_type": "stream",
     "text": [
      "/anaconda/envs/PycharmEnv/lib/python3.5/site-packages/ipykernel/__main__.py:70: DeprecationWarning: elementwise == comparison failed; this will raise an error in the future.\n",
      "/anaconda/envs/PycharmEnv/lib/python3.5/site-packages/ipykernel/__main__.py:71: DeprecationWarning: elementwise != comparison failed; this will raise an error in the future.\n"
     ]
    },
    {
     "data": {
      "text/plain": [
       "'\\nplt.figure()\\nfor i, correct in enumerate(correct_indices[:9]):\\n    plt.subplot(3,3,i+1)\\n    plt.imshow(X_test[correct].reshape(28,28), cmap=\\'gray\\', interpolation=\\'none\\')\\n    plt.title(\"Predicted {}, Class {}\".format(predicted_classes[correct], y_test[correct]))\\n    \\nplt.figure()\\nfor i, incorrect in enumerate(incorrect_indices[:9]):\\n    plt.subplot(3,3,i+1)\\n    plt.imshow(X_test[incorrect].reshape(28,28), cmap=\\'gray\\', interpolation=\\'none\\')\\n    plt.title(\"Predicted {}, Class {}\".format(predicted_classes[incorrect], y_test[incorrect]))\\n'"
      ]
     },
     "execution_count": 31,
     "metadata": {},
     "output_type": "execute_result"
    }
   ],
   "source": [
    "model = Sequential()\n",
    "model.add(Dense(32, input_dim=X_train_fc.shape[1], activation='relu'))\n",
    "model.add(Dense(32, activation='relu'))\n",
    "model.add(Dense(10, activation='softmax'))          \n",
    "model.summary()\n",
    "\n",
    "# 4.4 Specifying loss function and optimizer\n",
    "# hyperparameters\n",
    "\n",
    "# hyperparameters\n",
    "lr = 0.1\n",
    "momemtum = 0.9\n",
    "batch_size = 128\n",
    "nb_epoch = 20\n",
    "\n",
    "model.compile(loss='categorical_crossentropy',\n",
    "              optimizer=SGD(lr=lr, momentum=momemtum),\n",
    "              metrics=['accuracy'])\n",
    "\n",
    "\n",
    "# 4.5 Training the Model\n",
    "#Hyper-parameters\n",
    "\n",
    "\n",
    "\n",
    "start_time = time.time()\n",
    "\n",
    "checkpoint_file = 'fc_weights.hdf5'\n",
    "checkpointer = ModelCheckpoint(filepath=checkpoint_file, verbose=0, save_best_only=True)\n",
    "\n",
    "history = model.fit(X_train_fc, Y_train,\n",
    "                    batch_size=batch_size, nb_epoch=nb_epoch,\n",
    "                    verbose=1, validation_data=(X_val_fc, Y_val),\n",
    "                    callbacks=[checkpointer])\n",
    "\n",
    "\n",
    "#history=model.fit(X_train, Y_train,batch_size=batch_size, nb_epoch=nb_epoch,\\\n",
    "#          show_accuracy=show_accuracy, verbose=1,\\\n",
    "#          validation_data=(X_test, Y_test))\n",
    "\n",
    "print(\"Training required time is %s seconds\" % (time.time() - start_time))\n",
    "\n",
    "\n",
    "#score = model.evaluate(X_test, Y_test,show_accuracy=True, verbose=0)\n",
    "#print('Test score:', score)\n",
    "\n",
    "plt.subplot(2, 1, 1)\n",
    "plt.title('Loss')\n",
    "plt.xlabel('Epoch')\n",
    "plt.plot(history.history['loss'], '-o', label='Training loss')\n",
    "plt.plot(history.history['val_loss'], '-o', label='Validation loss')\n",
    "plt.legend(loc='upper right')\n",
    "\n",
    "plt.subplot(2, 1, 2)\n",
    "plt.title('Accuracy')\n",
    "plt.xlabel('Epoch')\n",
    "plt.plot(history.history['acc'], '-o', label='Training accuracy')\n",
    "plt.plot(history.history['val_acc'], '-o', label='Validation accuracy')\n",
    "plt.legend(loc='lower right')\n",
    "plt.show()\n",
    "\n",
    "\n",
    "\n",
    "# 4.6 Inspecting Output\n",
    "# The predict_classes function outputs the highest probability class\n",
    "# according to the trained classifier for each input example.\n",
    "#predicted_classes = model.predict_classes(X_test)\n",
    "\n",
    "predicted_classes_labels = model.predict(X_test_fc)\n",
    "# Check which items we got right / wrong\n",
    "correct_indices = np.nonzero(predicted_classes_labels == y_test)[0]\n",
    "incorrect_indices = np.nonzero(predicted_classes_labels != y_test)[0]\n",
    "\n",
    "\n",
    "# Sklearn Metrics\n",
    "'''\n",
    "acc = metrics.accuracy_score(predicted_classes_labels, y_test)\n",
    "f1 = metrics.f1_score(predicted_classes_labels, y_test)\n",
    "precision = metrics.precision_score(predicted_classes_labels, y_test)\n",
    "recall = metrics.recall_score(predicted_classes_labels, y_test)\n",
    "\n",
    "print ('Logistic regresion accuracy: ',acc)\n",
    "print ('Logistic regression F1-Score: ',f1)\n",
    "print ('Logistic regression precision: ',precision)\n",
    "print ('Logistic regression recall: ',recall)\n",
    "'''\n",
    "\n",
    "# 4.7 Visually checking output\n",
    "'''\n",
    "plt.figure()\n",
    "for i, correct in enumerate(correct_indices[:9]):\n",
    "    plt.subplot(3,3,i+1)\n",
    "    plt.imshow(X_test[correct].reshape(28,28), cmap='gray', interpolation='none')\n",
    "    plt.title(\"Predicted {}, Class {}\".format(predicted_classes[correct], y_test[correct]))\n",
    "    \n",
    "plt.figure()\n",
    "for i, incorrect in enumerate(incorrect_indices[:9]):\n",
    "    plt.subplot(3,3,i+1)\n",
    "    plt.imshow(X_test[incorrect].reshape(28,28), cmap='gray', interpolation='none')\n",
    "    plt.title(\"Predicted {}, Class {}\".format(predicted_classes[incorrect], y_test[incorrect]))\n",
    "'''    \n",
    "    \n",
    "\n",
    "\n"
   ]
  },
  {
   "cell_type": "code",
   "execution_count": 32,
   "metadata": {
    "collapsed": false
   },
   "outputs": [
    {
     "ename": "ImportError",
     "evalue": "No module named 'pydot'",
     "output_type": "error",
     "traceback": [
      "\u001b[0;31m---------------------------------------------------------------------------\u001b[0m",
      "\u001b[0;31mImportError\u001b[0m                               Traceback (most recent call last)",
      "\u001b[0;32m/anaconda/envs/PycharmEnv/lib/python3.5/site-packages/keras/utils/visualize_util.py\u001b[0m in \u001b[0;36m<module>\u001b[0;34m()\u001b[0m\n\u001b[1;32m      2\u001b[0m     \u001b[0;31m# pydot-ng is a fork of pydot that is better maintained\u001b[0m\u001b[0;34m\u001b[0m\u001b[0;34m\u001b[0m\u001b[0m\n\u001b[0;32m----> 3\u001b[0;31m     \u001b[0;32mimport\u001b[0m \u001b[0mpydot_ng\u001b[0m \u001b[0;32mas\u001b[0m \u001b[0mpydot\u001b[0m\u001b[0;34m\u001b[0m\u001b[0m\n\u001b[0m\u001b[1;32m      4\u001b[0m \u001b[0;32mexcept\u001b[0m \u001b[0mImportError\u001b[0m\u001b[0;34m:\u001b[0m\u001b[0;34m\u001b[0m\u001b[0m\n",
      "\u001b[0;31mImportError\u001b[0m: No module named 'pydot_ng'",
      "\nDuring handling of the above exception, another exception occurred:\n",
      "\u001b[0;31mImportError\u001b[0m                               Traceback (most recent call last)",
      "\u001b[0;32m<ipython-input-32-02585adb0547>\u001b[0m in \u001b[0;36m<module>\u001b[0;34m()\u001b[0m\n\u001b[1;32m      1\u001b[0m \u001b[0;32mfrom\u001b[0m \u001b[0mIPython\u001b[0m\u001b[0;34m.\u001b[0m\u001b[0mdisplay\u001b[0m \u001b[0;32mimport\u001b[0m \u001b[0mSVG\u001b[0m\u001b[0;34m\u001b[0m\u001b[0m\n\u001b[0;32m----> 2\u001b[0;31m \u001b[0;32mfrom\u001b[0m \u001b[0mkeras\u001b[0m\u001b[0;34m.\u001b[0m\u001b[0mutils\u001b[0m\u001b[0;34m.\u001b[0m\u001b[0mvisualize_util\u001b[0m \u001b[0;32mimport\u001b[0m \u001b[0mmodel_to_dot\u001b[0m\u001b[0;34m\u001b[0m\u001b[0m\n\u001b[0m\u001b[1;32m      3\u001b[0m \u001b[0;34m\u001b[0m\u001b[0m\n\u001b[1;32m      4\u001b[0m \u001b[0mSVG\u001b[0m\u001b[0;34m(\u001b[0m\u001b[0mmodel_to_dot\u001b[0m\u001b[0;34m(\u001b[0m\u001b[0mmodel\u001b[0m\u001b[0;34m)\u001b[0m\u001b[0;34m.\u001b[0m\u001b[0mcreate\u001b[0m\u001b[0;34m(\u001b[0m\u001b[0mprog\u001b[0m\u001b[0;34m=\u001b[0m\u001b[0;34m'dot'\u001b[0m\u001b[0;34m,\u001b[0m \u001b[0mformat\u001b[0m\u001b[0;34m=\u001b[0m\u001b[0;34m'svg'\u001b[0m\u001b[0;34m)\u001b[0m\u001b[0;34m)\u001b[0m\u001b[0;34m\u001b[0m\u001b[0m\n",
      "\u001b[0;32m/anaconda/envs/PycharmEnv/lib/python3.5/site-packages/keras/utils/visualize_util.py\u001b[0m in \u001b[0;36m<module>\u001b[0;34m()\u001b[0m\n\u001b[1;32m      4\u001b[0m \u001b[0;32mexcept\u001b[0m \u001b[0mImportError\u001b[0m\u001b[0;34m:\u001b[0m\u001b[0;34m\u001b[0m\u001b[0m\n\u001b[1;32m      5\u001b[0m     \u001b[0;31m# fall back on pydot if necessary\u001b[0m\u001b[0;34m\u001b[0m\u001b[0;34m\u001b[0m\u001b[0m\n\u001b[0;32m----> 6\u001b[0;31m     \u001b[0;32mimport\u001b[0m \u001b[0mpydot\u001b[0m\u001b[0;34m\u001b[0m\u001b[0m\n\u001b[0m\u001b[1;32m      7\u001b[0m \u001b[0;32mif\u001b[0m \u001b[0;32mnot\u001b[0m \u001b[0mpydot\u001b[0m\u001b[0;34m.\u001b[0m\u001b[0mfind_graphviz\u001b[0m\u001b[0;34m(\u001b[0m\u001b[0;34m)\u001b[0m\u001b[0;34m:\u001b[0m\u001b[0;34m\u001b[0m\u001b[0m\n\u001b[1;32m      8\u001b[0m     raise RuntimeError('Failed to import pydot. You must install pydot'\n",
      "\u001b[0;31mImportError\u001b[0m: No module named 'pydot'"
     ]
    }
   ],
   "source": [
    "#from IPython.display import SVG\n",
    "#from keras.utils.visualize_util import model_to_dot\n",
    "\n",
    "#SVG(model_to_dot(model).create(prog='dot', format='svg'))"
   ]
  },
  {
   "cell_type": "code",
   "execution_count": null,
   "metadata": {
    "collapsed": true
   },
   "outputs": [],
   "source": []
  }
 ],
 "metadata": {
  "kernelspec": {
   "display_name": "Python PycharmEnv",
   "language": "python",
   "name": "pycharmenv"
  },
  "language_info": {
   "codemirror_mode": {
    "name": "ipython",
    "version": 3
   },
   "file_extension": ".py",
   "mimetype": "text/x-python",
   "name": "python",
   "nbconvert_exporter": "python",
   "pygments_lexer": "ipython3",
   "version": "3.5.1"
  }
 },
 "nbformat": 4,
 "nbformat_minor": 0
}
