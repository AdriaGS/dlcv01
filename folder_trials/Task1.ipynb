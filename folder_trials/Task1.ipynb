{
 "cells": [
  {
   "cell_type": "markdown",
   "metadata": {},
   "source": [
    "# Task 1"
   ]
  },
  {
   "cell_type": "markdown",
   "metadata": {},
   "source": [
    "Load and configure the needed modules."
   ]
  },
  {
   "cell_type": "code",
   "execution_count": 1,
   "metadata": {
    "collapsed": false
   },
   "outputs": [
    {
     "name": "stderr",
     "output_type": "stream",
     "text": [
      "Using Theano backend.\n"
     ]
    }
   ],
   "source": [
    "import time\n",
    "import numpy as np\n",
    "import matplotlib.pyplot as plt\n",
    "from keras.datasets import mnist\n",
    "from keras.models import Sequential\n",
    "from keras.layers import Dense, Dropout, Activation, Flatten\n",
    "from keras.layers import Convolution2D, MaxPooling2D\n",
    "from keras.callbacks import ModelCheckpoint\n",
    "from keras.optimizers import SGD\n",
    "from keras.utils import np_utils\n",
    "\n",
    "# inline plots\n",
    "%matplotlib inline\n",
    "plt.rcParams['figure.figsize'] = (10.0, 8.0) # set default size of plots\n",
    "plt.rcParams['image.interpolation'] = 'nearest'"
   ]
  },
  {
   "cell_type": "markdown",
   "metadata": {},
   "source": [
    "Load the MNIST data, shuffled and split between train and test sets. Additionally, we are going to take 10% of the entire training set as the validation set and leave the remaining 90% as the training set."
   ]
  },
  {
   "cell_type": "code",
   "execution_count": 2,
   "metadata": {
    "collapsed": false,
    "scrolled": true
   },
   "outputs": [
    {
     "name": "stdout",
     "output_type": "stream",
     "text": [
      "X_train:  (54000L, 28L, 28L)\n",
      "y_train:  (54000L,)\n",
      "X_val:  (6000L, 28L, 28L)\n",
      "y_val:  (6000L,)\n",
      "X_test:  (10000L, 28L, 28L)\n",
      "y_test:  (10000L,)\n"
     ]
    }
   ],
   "source": [
    "(X_train, y_train), (X_test, y_test) = mnist.load_data()\n",
    "\n",
    "num_validation = int(X_train.shape[0] * 0.1)\n",
    "num_training = X_train.shape[0] - num_validation\n",
    "\n",
    "mask = range(num_training, num_training + num_validation)\n",
    "X_val = X_train[mask]\n",
    "y_val = y_train[mask]\n",
    "\n",
    "mask = range(num_training)\n",
    "X_train = X_train[mask]\n",
    "y_train = y_train[mask]\n",
    "\n",
    "print 'X_train: ', X_train.shape\n",
    "print 'y_train: ', y_train.shape\n",
    "print 'X_val: ', X_val.shape\n",
    "print 'y_val: ', y_val.shape\n",
    "print 'X_test: ', X_test.shape\n",
    "print 'y_test: ', y_test.shape"
   ]
  },
  {
   "cell_type": "markdown",
   "metadata": {},
   "source": [
    "## Fully Connected Neural Network"
   ]
  },
  {
   "cell_type": "markdown",
   "metadata": {},
   "source": [
    "We need to reshape the images into vectors, convert the pixel values to float numbers and divide by 255 so that the values are between 0 and 1."
   ]
  },
  {
   "cell_type": "code",
   "execution_count": 3,
   "metadata": {
    "collapsed": false
   },
   "outputs": [],
   "source": [
    "X_train_fc = X_train.reshape(X_train.shape[0], -1).astype('float32') / 255\n",
    "X_val_fc = X_val.reshape(X_val.shape[0], -1).astype('float32') / 255\n",
    "X_test_fc = X_test.reshape(X_test.shape[0], -1).astype('float32') / 255"
   ]
  },
  {
   "cell_type": "markdown",
   "metadata": {},
   "source": [
    "We also need to convert the class labels to binary vectors. See below a couple of examples of what this means."
   ]
  },
  {
   "cell_type": "code",
   "execution_count": 4,
   "metadata": {
    "collapsed": false
   },
   "outputs": [
    {
     "name": "stdout",
     "output_type": "stream",
     "text": [
      "Class label: 5 -> Binary vector: [ 0.  0.  0.  0.  0.  1.  0.  0.  0.  0.]\n",
      "Class label: 0 -> Binary vector: [ 1.  0.  0.  0.  0.  0.  0.  0.  0.  0.]\n"
     ]
    }
   ],
   "source": [
    "nb_classes = 10\n",
    "Y_train = np_utils.to_categorical(y_train, nb_classes)\n",
    "Y_val = np_utils.to_categorical(y_val, nb_classes)\n",
    "Y_test = np_utils.to_categorical(y_test, nb_classes)\n",
    "\n",
    "print 'Class label: {0} -> Binary vector: {1}'.format(y_train[0], Y_train[0])\n",
    "print 'Class label: {0} -> Binary vector: {1}'.format(y_train[1], Y_train[1])"
   ]
  },
  {
   "cell_type": "markdown",
   "metadata": {},
   "source": [
    "First let's try with a simple architecture consisting of two fully connected layers with 32 neurons followed by relu activations, and a third fully connected layer with 10 neurons followed by a softmax function to produce the class scores."
   ]
  },
  {
   "cell_type": "code",
   "execution_count": 5,
   "metadata": {
    "collapsed": false,
    "scrolled": true
   },
   "outputs": [
    {
     "name": "stdout",
     "output_type": "stream",
     "text": [
      "____________________________________________________________________________________________________\n",
      "Layer (type)                     Output Shape          Param #     Connected to                     \n",
      "====================================================================================================\n",
      "dense_1 (Dense)                  (None, 32)            25120       dense_input_1[0][0]              \n",
      "____________________________________________________________________________________________________\n",
      "dense_2 (Dense)                  (None, 32)            1056        dense_1[0][0]                    \n",
      "____________________________________________________________________________________________________\n",
      "dense_3 (Dense)                  (None, 10)            330         dense_2[0][0]                    \n",
      "====================================================================================================\n",
      "Total params: 26506\n",
      "____________________________________________________________________________________________________\n"
     ]
    }
   ],
   "source": [
    "model = Sequential()\n",
    "model.add(Dense(32, input_dim=X_train_fc.shape[1], activation='relu'))\n",
    "model.add(Dense(32, activation='relu'))\n",
    "model.add(Dense(10, activation='softmax'))\n",
    "          \n",
    "model.summary()"
   ]
  },
  {
   "cell_type": "markdown",
   "metadata": {},
   "source": [
    "As we can see, this model has 26506 parameters in total. For each layer, the number of parameters is given by the following formula: (input_dim * output_dim) + output_dim. This is because each neuron is connected to all the input values and has one more weight that accounts for the bias.\n",
    "\n",
    "Next, we are going to train this model and visualise the learning curves."
   ]
  },
  {
   "cell_type": "code",
   "execution_count": 6,
   "metadata": {
    "collapsed": false
   },
   "outputs": [
    {
     "name": "stdout",
     "output_type": "stream",
     "text": [
      "Train on 54000 samples, validate on 6000 samples\n",
      "Epoch 1/20\n",
      "54000/54000 [==============================] - 1s - loss: 0.3591 - acc: 0.8878 - val_loss: 0.1442 - val_acc: 0.9542\n",
      "Epoch 2/20\n",
      "54000/54000 [==============================] - 1s - loss: 0.1839 - acc: 0.9445 - val_loss: 0.1425 - val_acc: 0.9615\n",
      "Epoch 3/20\n",
      "54000/54000 [==============================] - 1s - loss: 0.1570 - acc: 0.9524 - val_loss: 0.1263 - val_acc: 0.9642\n",
      "Epoch 4/20\n",
      "54000/54000 [==============================] - 1s - loss: 0.1317 - acc: 0.9610 - val_loss: 0.1215 - val_acc: 0.9660\n",
      "Epoch 5/20\n",
      "54000/54000 [==============================] - 1s - loss: 0.1206 - acc: 0.9636 - val_loss: 0.1306 - val_acc: 0.9667\n",
      "Epoch 6/20\n",
      "54000/54000 [==============================] - 1s - loss: 0.1109 - acc: 0.9663 - val_loss: 0.1228 - val_acc: 0.9655\n",
      "Epoch 7/20\n",
      "54000/54000 [==============================] - 1s - loss: 0.1012 - acc: 0.9693 - val_loss: 0.1211 - val_acc: 0.9670\n",
      "Epoch 8/20\n",
      "54000/54000 [==============================] - 2s - loss: 0.0956 - acc: 0.9715 - val_loss: 0.1090 - val_acc: 0.9688\n",
      "Epoch 9/20\n",
      "54000/54000 [==============================] - 2s - loss: 0.0959 - acc: 0.9703 - val_loss: 0.1064 - val_acc: 0.9720\n",
      "Epoch 10/20\n",
      "54000/54000 [==============================] - 2s - loss: 0.0938 - acc: 0.9717 - val_loss: 0.1188 - val_acc: 0.9695\n",
      "Epoch 11/20\n",
      "54000/54000 [==============================] - 2s - loss: 0.0858 - acc: 0.9741 - val_loss: 0.1207 - val_acc: 0.9677\n",
      "Epoch 12/20\n",
      "54000/54000 [==============================] - 2s - loss: 0.0808 - acc: 0.9755 - val_loss: 0.1310 - val_acc: 0.9640\n",
      "Epoch 13/20\n",
      "54000/54000 [==============================] - 2s - loss: 0.0788 - acc: 0.9760 - val_loss: 0.1278 - val_acc: 0.9667\n",
      "Epoch 14/20\n",
      "54000/54000 [==============================] - 2s - loss: 0.0728 - acc: 0.9777 - val_loss: 0.1128 - val_acc: 0.9707\n",
      "Epoch 15/20\n",
      "54000/54000 [==============================] - 2s - loss: 0.0740 - acc: 0.9774 - val_loss: 0.1330 - val_acc: 0.9673\n",
      "Epoch 16/20\n",
      "54000/54000 [==============================] - 2s - loss: 0.0717 - acc: 0.9777 - val_loss: 0.1629 - val_acc: 0.9607\n",
      "Epoch 17/20\n",
      "54000/54000 [==============================] - 2s - loss: 0.0732 - acc: 0.9778 - val_loss: 0.1488 - val_acc: 0.9580\n",
      "Epoch 18/20\n",
      "54000/54000 [==============================] - 2s - loss: 0.0684 - acc: 0.9788 - val_loss: 0.1186 - val_acc: 0.9692\n",
      "Epoch 19/20\n",
      "54000/54000 [==============================] - 2s - loss: 0.0655 - acc: 0.9799 - val_loss: 0.1130 - val_acc: 0.9717\n",
      "Epoch 20/20\n",
      "54000/54000 [==============================] - 2s - loss: 0.0630 - acc: 0.9806 - val_loss: 0.1267 - val_acc: 0.9700\n"
     ]
    },
    {
     "data": {
      "image/png": "[encoded data removed]",
      "text/plain": [
       "<matplotlib.figure.Figure at 0x215ddf60>"
      ]
     },
     "metadata": {},
     "output_type": "display_data"
    }
   ],
   "source": [
    "# hyperparameters\n",
    "lr = 0.1\n",
    "momemtum = 0.9\n",
    "batch_size = 128\n",
    "nb_epoch = 20\n",
    "\n",
    "model.compile(loss='categorical_crossentropy',\n",
    "              optimizer=SGD(lr=lr, momentum=momemtum),\n",
    "              metrics=['accuracy'])\n",
    "\n",
    "checkpoint_file = 'fc_weights.hdf5'\n",
    "checkpointer = ModelCheckpoint(filepath=checkpoint_file, verbose=0, save_best_only=True)\n",
    "history = model.fit(X_train_fc, Y_train,\n",
    "                    batch_size=batch_size, nb_epoch=nb_epoch,\n",
    "                    verbose=1, validation_data=(X_val_fc, Y_val),\n",
    "                    callbacks=[checkpointer])\n",
    "\n",
    "plt.subplot(2, 1, 1)\n",
    "plt.title('Loss')\n",
    "plt.xlabel('Epoch')\n",
    "plt.plot(history.history['loss'], '-o', label='Training loss')\n",
    "plt.plot(history.history['val_loss'], '-o', label='Validation loss')\n",
    "plt.legend(loc='upper right')\n",
    "\n",
    "plt.subplot(2, 1, 2)\n",
    "plt.title('Accuracy')\n",
    "plt.xlabel('Epoch')\n",
    "plt.plot(history.history['acc'], '-o', label='Training accuracy')\n",
    "plt.plot(history.history['val_acc'], '-o', label='Validation accuracy')\n",
    "plt.legend(loc='lower right')\n",
    "plt.show()"
   ]
  },
  {
   "cell_type": "markdown",
   "metadata": {},
   "source": [
    "Since we are using checkpointing, we can take the model that performs best on the validation set and evaluate it on the test set."
   ]
  },
  {
   "cell_type": "code",
   "execution_count": 7,
   "metadata": {
    "collapsed": false
   },
   "outputs": [
    {
     "name": "stdout",
     "output_type": "stream",
     "text": [
      "Best model in the validation set:  9\n",
      "5664/6000 [===========================>..] - ETA: 0sVal loss: 0.106403066085\n",
      "Val accuracy: 0.972\n",
      " 9504/10000 [===========================>..] - ETA: 0sTest loss: 0.124628911183\n",
      "Test accuracy: 0.9645\n"
     ]
    }
   ],
   "source": [
    "print 'Best model in the validation set: ', np.argmax(history.history['val_acc']) + 1\n",
    "\n",
    "model.load_weights(checkpoint_file)\n",
    "\n",
    "score = model.evaluate(X_val_fc, Y_val)\n",
    "print 'Val loss:', score[0]\n",
    "print 'Val accuracy:', score[1]\n",
    "\n",
    "score = model.evaluate(X_test_fc, Y_test)\n",
    "print 'Test loss:', score[0]\n",
    "print 'Test accuracy:', score[1]"
   ]
  }
 ],
 "metadata": {
  "kernelspec": {
   "display_name": "Python 2",
   "language": "python",
   "name": "python2"
  },
  "language_info": {
   "codemirror_mode": {
    "name": "ipython",
    "version": 2
   },
   "file_extension": ".py",
   "mimetype": "text/x-python",
   "name": "python",
   "nbconvert_exporter": "python",
   "pygments_lexer": "ipython2",
   "version": "2.7.12"
  }
 },
 "nbformat": 4,
 "nbformat_minor": 0
}
