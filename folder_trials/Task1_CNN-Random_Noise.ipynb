{
 "cells": [
  {
   "cell_type": "markdown",
   "metadata": {},
   "source": [
    "# Task 1"
   ]
  },
  {
   "cell_type": "markdown",
   "metadata": {},
   "source": [
    "Load and configure the needed modules."
   ]
  },
  {
   "cell_type": "code",
   "execution_count": 1,
   "metadata": {
    "collapsed": false
   },
   "outputs": [
    {
     "name": "stderr",
     "output_type": "stream",
     "text": [
      "Using TensorFlow backend.\n"
     ]
    }
   ],
   "source": [
    "import numpy as np\n",
    "import matplotlib.pyplot as plt\n",
    "from keras.datasets import mnist\n",
    "from keras.models import Sequential\n",
    "from keras.layers import Dense, Dropout, Activation, Flatten\n",
    "from keras.layers import Convolution2D, MaxPooling2D\n",
    "from keras.callbacks import ModelCheckpoint\n",
    "from keras.optimizers import SGD\n",
    "from keras.utils import np_utils\n",
    "from keras.callbacks import EarlyStopping, ModelCheckpoint\n",
    "\n",
    "# inline plots\n",
    "%matplotlib inline\n",
    "plt.rcParams['figure.figsize'] = (10.0, 8.0) # set default size of plots\n",
    "plt.rcParams['image.interpolation'] = 'nearest'\n",
    "plt.rcParams['image.cmap'] = 'gray'"
   ]
  },
  {
   "cell_type": "markdown",
   "metadata": {},
   "source": [
    "Load the MNIST data, shuffled and split between train and test sets. Additionally, we are going to take 10% of the entire training set as the validation set and leave the remaining 90% as the training set."
   ]
  },
  {
   "cell_type": "code",
   "execution_count": 2,
   "metadata": {
    "collapsed": false,
    "scrolled": true
   },
   "outputs": [],
   "source": [
    "(X_train, y_train), (X_test, y_test) = mnist.load_data()\n",
    "X_train = X_train.astype('float32')\n",
    "X_test = X_test.astype('float32')\n",
    "X_train /= 255\n",
    "X_test /= 255\n",
    "\n",
    "batch_size = 128\n",
    "nb_classes = 10\n",
    "nb_epoch = 10\n",
    "\n",
    "# input image dimensions\n",
    "img_rows, img_cols = 28, 28\n",
    "# number of convolutional filters to use\n",
    "nb_filters = 32\n",
    "# size of pooling area for max pooling\n",
    "nb_pool = 2\n",
    "# convolution kernel size\n",
    "nb_conv = 3"
   ]
  },
  {
   "cell_type": "markdown",
   "metadata": {},
   "source": [
    "Add random noise"
   ]
  },
  {
   "cell_type": "code",
   "execution_count": 3,
   "metadata": {
    "collapsed": false
   },
   "outputs": [],
   "source": [
    "std = .2\n",
    "gaussian_noise_train = np.random.normal(0,std,X_train.shape)\n",
    "gaussian_noise_test = np.random.normal(0,std,X_test.shape)\n",
    "\n",
    "X_train_noise = X_train - gaussian_noise_train\n",
    "X_test_noise = X_test - gaussian_noise_test"
   ]
  },
  {
   "cell_type": "code",
   "execution_count": 4,
   "metadata": {
    "collapsed": false
   },
   "outputs": [
    {
     "data": {
      "image/png": "[encoded data removed]",
      "text/plain": [
       "<matplotlib.figure.Figure at 0x1042c9f28>"
      ]
     },
     "metadata": {},
     "output_type": "display_data"
    }
   ],
   "source": [
    "f, axarr = plt.subplots(4, 2)\n",
    "for i in range(4):\n",
    "    axarr[i,0].imshow(X_train[i])\n",
    "    axarr[i,1].imshow(X_train_noise[i])"
   ]
  },
  {
   "cell_type": "markdown",
   "metadata": {},
   "source": [
    "## Convolutional Neural Network"
   ]
  },
  {
   "cell_type": "markdown",
   "metadata": {},
   "source": [
    "We need to reshape the images into vectors, convert the pixel values to float numbers and divide by 255 so that the values are between 0 and 1."
   ]
  },
  {
   "cell_type": "code",
   "execution_count": 5,
   "metadata": {
    "collapsed": false
   },
   "outputs": [
    {
     "name": "stdout",
     "output_type": "stream",
     "text": [
      "X_train shape: (60000, 1, 28, 28)\n",
      "60000 train samples\n",
      "10000 test samples\n"
     ]
    }
   ],
   "source": [
    "X_train_noise = X_train_noise.reshape(X_train.shape[0], 1, img_rows, img_cols)\n",
    "X_test_noise = X_test_noise.reshape(X_test.shape[0], 1, img_rows, img_cols)\n",
    "print('X_train shape:', X_train_noise.shape)\n",
    "print(X_train_noise.shape[0], 'train samples')\n",
    "print(X_test_noise.shape[0], 'test samples')"
   ]
  },
  {
   "cell_type": "markdown",
   "metadata": {},
   "source": [
    "We also need to convert the class labels to binary vectors. See below a couple of examples of what this means."
   ]
  },
  {
   "cell_type": "code",
   "execution_count": 6,
   "metadata": {
    "collapsed": false
   },
   "outputs": [],
   "source": [
    "Y_train = np_utils.to_categorical(y_train, nb_classes)\n",
    "Y_test = np_utils.to_categorical(y_test, nb_classes)"
   ]
  },
  {
   "cell_type": "markdown",
   "metadata": {},
   "source": [
    "First let's try with a simple architecture consisting of two fully connected layers with 32 neurons followed by relu activations, and a third fully connected layer with 10 neurons followed by a softmax function to produce the class scores."
   ]
  },
  {
   "cell_type": "code",
   "execution_count": 7,
   "metadata": {
    "collapsed": false,
    "scrolled": true
   },
   "outputs": [
    {
     "name": "stdout",
     "output_type": "stream",
     "text": [
      "____________________________________________________________________________________________________\n",
      "Layer (type)                     Output Shape          Param #     Connected to                     \n",
      "====================================================================================================\n",
      "conv1_1 (Convolution2D)          (None, 32, 26, 26)    320         convolution2d_input_1[0][0]      \n",
      "____________________________________________________________________________________________________\n",
      "conv1_2 (Convolution2D)          (None, 32, 24, 24)    9248        conv1_1[0][0]                    \n",
      "____________________________________________________________________________________________________\n",
      "pool1 (MaxPooling2D)             (None, 32, 12, 12)    0           conv1_2[0][0]                    \n",
      "____________________________________________________________________________________________________\n",
      "conv2 (Convolution2D)            (None, 64, 10, 10)    18496       pool1[0][0]                      \n",
      "____________________________________________________________________________________________________\n",
      "pool2 (MaxPooling2D)             (None, 64, 5, 5)      0           conv2[0][0]                      \n",
      "____________________________________________________________________________________________________\n",
      "flatten_1 (Flatten)              (None, 1600)          0           pool2[0][0]                      \n",
      "____________________________________________________________________________________________________\n",
      "fc1 (Dense)                      (None, 128)           204928      flatten_1[0][0]                  \n",
      "____________________________________________________________________________________________________\n",
      "output (Dense)                   (None, 10)            1290        fc1[0][0]                        \n",
      "====================================================================================================\n",
      "Total params: 234282\n",
      "____________________________________________________________________________________________________\n"
     ]
    }
   ],
   "source": [
    "model = Sequential()\n",
    "\n",
    "model.add(Convolution2D(32, nb_conv, nb_conv,\n",
    "                        border_mode='valid',\n",
    "                        activation='relu',\n",
    "                        input_shape=(1, img_rows, img_cols),\n",
    "                        name='conv1_1'))\n",
    "model.add(Convolution2D(32, nb_conv, nb_conv, activation='relu', name='conv1_2'))\n",
    "model.add(MaxPooling2D(pool_size=(nb_pool, nb_pool), name='pool1'))\n",
    "model.add(Convolution2D(64, nb_conv, nb_conv, activation='relu', name='conv2'))\n",
    "model.add(MaxPooling2D(pool_size=(nb_pool, nb_pool), name='pool2'))\n",
    "\n",
    "model.add(Flatten())\n",
    "model.add(Dense(128, activation='relu', name='fc1'))\n",
    "model.add(Dense(nb_classes, activation='softmax', name='output'))\n",
    "\n",
    "model.compile(loss='categorical_crossentropy',\n",
    "              optimizer='adadelta',\n",
    "              metrics=['accuracy'])\n",
    "\n",
    "model.summary()"
   ]
  },
  {
   "cell_type": "code",
   "execution_count": 8,
   "metadata": {
    "collapsed": false
   },
   "outputs": [
    {
     "name": "stdout",
     "output_type": "stream",
     "text": [
      "Train on 60000 samples, validate on 10000 samples\n",
      "Epoch 1/10\n",
      "60000/60000 [==============================] - 496s - loss: 0.2707 - acc: 0.9167 - val_loss: 0.0712 - val_acc: 0.9767\n",
      "Epoch 2/10\n",
      "60000/60000 [==============================] - 488s - loss: 0.0627 - acc: 0.9811 - val_loss: 0.0694 - val_acc: 0.9775\n",
      "Epoch 3/10\n",
      "60000/60000 [==============================] - 491s - loss: 0.0448 - acc: 0.9861 - val_loss: 0.0520 - val_acc: 0.9824\n",
      "Epoch 4/10\n",
      "60000/60000 [==============================] - 2235s - loss: 0.0348 - acc: 0.9893 - val_loss: 0.0461 - val_acc: 0.9843\n",
      "Epoch 5/10\n",
      "60000/60000 [==============================] - 4697s - loss: 0.0283 - acc: 0.9911 - val_loss: 0.0342 - val_acc: 0.9887\n",
      "Epoch 6/10\n",
      "60000/60000 [==============================] - 474s - loss: 0.0232 - acc: 0.9928 - val_loss: 0.0349 - val_acc: 0.9889\n",
      "Epoch 7/10\n",
      "60000/60000 [==============================] - 516s - loss: 0.0185 - acc: 0.9944 - val_loss: 0.0336 - val_acc: 0.9899\n",
      "Epoch 8/10\n",
      "60000/60000 [==============================] - 491s - loss: 0.0155 - acc: 0.9954 - val_loss: 0.0362 - val_acc: 0.9894\n",
      "Epoch 9/10\n",
      "60000/60000 [==============================] - 473s - loss: 0.0126 - acc: 0.9963 - val_loss: 0.0381 - val_acc: 0.9886\n"
     ]
    }
   ],
   "source": [
    "callbacks = [\n",
    "    ModelCheckpoint('./weights.hdf5', save_best_only=True),\n",
    "    EarlyStopping(patience=1)\n",
    "]\n",
    "\n",
    "history = model.fit(X_train_noise, Y_train, batch_size=batch_size, nb_epoch=nb_epoch,\n",
    "          verbose=1, validation_data=(X_test_noise, Y_test), callbacks=callbacks)"
   ]
  },
  {
   "cell_type": "code",
   "execution_count": null,
   "metadata": {
    "collapsed": false
   },
   "outputs": [],
   "source": [
    "plt.subplot(2, 1, 1)\n",
    "plt.title('Loss')\n",
    "plt.xlabel('Epoch')\n",
    "plt.plot(history.history['loss'], '-o', label='Training loss')\n",
    "plt.plot(history.history['val_loss'], '-o', label='Validation loss')\n",
    "plt.legend(loc='upper right')\n",
    "\n",
    "plt.subplot(2, 1, 2)\n",
    "plt.title('Accuracy')\n",
    "plt.xlabel('Epoch')\n",
    "plt.plot(history.history['acc'], '-o', label='Training accuracy')\n",
    "plt.plot(history.history['val_acc'], '-o', label='Validation accuracy')\n",
    "plt.legend(loc='lower right')\n",
    "plt.show()"
   ]
  },
  {
   "cell_type": "markdown",
   "metadata": {},
   "source": [
    "Since we are using checkpointing, we can take the model that performs best on the validation set and evaluate it on the test set."
   ]
  },
  {
   "cell_type": "code",
   "execution_count": null,
   "metadata": {
    "collapsed": false
   },
   "outputs": [],
   "source": [
    "plt.imshow(X_train[0][0], cmap='gray')"
   ]
  },
  {
   "cell_type": "code",
   "execution_count": null,
   "metadata": {
    "collapsed": false
   },
   "outputs": [],
   "source": [
    "filters = model.layers[0].get_weights()[0]\n",
    "print filters.shape"
   ]
  },
  {
   "cell_type": "code",
   "execution_count": null,
   "metadata": {
    "collapsed": false
   },
   "outputs": [],
   "source": [
    "import numpy as np\n",
    "filters = filters.reshape(4, 8, 3, 3)\n",
    "\n",
    "f, axarr = plt.subplots(4, 8)\n",
    "for i in range(4):\n",
    "    for j in range(8):\n",
    "        axarr[i, j].imshow(filters[i,j], cmap='gray')\n",
    "        axarr[i,j].get_xaxis().set_visible(False)\n",
    "        axarr[i,j].get_yaxis().set_visible(False)"
   ]
  },
  {
   "cell_type": "markdown",
   "metadata": {},
   "source": [
    "### T-SNE"
   ]
  },
  {
   "cell_type": "code",
   "execution_count": null,
   "metadata": {
    "collapsed": false
   },
   "outputs": [],
   "source": [
    "import numpy as np\n",
    "from sklearn.manifold import TSNE\n",
    "from keras import backend as K\n",
    "\n",
    "get_3rd_layer_output = K.function([model.layers[0].input],\n",
    "                                  [model.layers[6].output])\n",
    "layer_output = get_3rd_layer_output([X_test])[0]\n",
    "assert layer_output.shape[-1] == 128\n",
    "\n",
    "layer_output.shape\n"
   ]
  },
  {
   "cell_type": "code",
   "execution_count": null,
   "metadata": {
    "collapsed": false
   },
   "outputs": [],
   "source": [
    "X = layer_output[:3000,:]\n",
    "model_tsne = TSNE(n_components=2, random_state=0)\n",
    "Y = model_tsne.fit_transform(X)"
   ]
  },
  {
   "cell_type": "code",
   "execution_count": null,
   "metadata": {
    "collapsed": false
   },
   "outputs": [],
   "source": [
    "import pandas as pd\n",
    "import seaborn as sns\n",
    "\n",
    "data = {\"x\": [], \"y\": [], \"cluster\": []}\n",
    "for i in range(len(X)):\n",
    "    data[\"x\"].append(Y[i][0])\n",
    "    data[\"y\"].append(Y[i][1])\n",
    "    data[\"cluster\"].append(y_test[i])\n",
    "df = pd.DataFrame(data)\n",
    "sns.lmplot(\"x\", \"y\", data=df,\n",
    "           fit_reg=False, size=7,\n",
    "           hue=\"cluster\", legend=True)\n",
    "plt.show()"
   ]
  },
  {
   "cell_type": "code",
   "execution_count": null,
   "metadata": {
    "collapsed": true
   },
   "outputs": [],
   "source": []
  }
 ],
 "metadata": {
  "kernelspec": {
   "display_name": "Python 3",
   "language": "python",
   "name": "python3"
  },
  "language_info": {
   "codemirror_mode": {
    "name": "ipython",
    "version": 3
   },
   "file_extension": ".py",
   "mimetype": "text/x-python",
   "name": "python",
   "nbconvert_exporter": "python",
   "pygments_lexer": "ipython3",
   "version": "3.5.1"
  }
 },
 "nbformat": 4,
 "nbformat_minor": 0
}
